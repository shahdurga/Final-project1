{
 "cells": [
  {
   "cell_type": "code",
   "execution_count": 3,
   "metadata": {},
   "outputs": [],
   "source": [
    "import os\n",
    "import zipfile\n",
    "import requests\n",
    "\n",
    "import pandas as pd\n",
    "import matplotlib.pyplot as plt\n",
    "import seaborn as sns\n",
    "%matplotlib inline\n",
    "\n",
    "sns.set()\n",
    "sns.set_style(\"whitegrid\")"
   ]
  },
  {
   "cell_type": "code",
   "execution_count": 4,
   "metadata": {},
   "outputs": [
    {
     "name": "stdout",
     "output_type": "stream",
     "text": [
      "1. Title: Mushroom Database\n",
      "\n",
      "2. Sources: \n",
      "    (a) Mushroom records drawn from The Audubon Society Field Guide to North\n",
      "        American Mushrooms (1981). G. H. Lincoff (Pres.), New York: Alfred\n",
      "        A. Knopf\n",
      "    (b) Donor: Jeff Schlimmer (Jeffrey.Schlimmer@a.gp.cs.cmu.edu)\n",
      "    (c) Date: 27 April 1987\n",
      "\n",
      "3. Past Usage:\n",
      "    1. Schlimmer,J.S. (1987). Concept Acquisition Through Representational\n",
      "       Adjustment (Technical Report 87-19).  Doctoral disseration, Department\n",
      "       of Information and Computer Science, University of California, Irvine.\n",
      "       --- STAGGER: asymptoted to 95% classification accuracy after reviewing\n",
      "           1000 instances.\n",
      "    2. Iba,W., Wogulis,J., & Langley,P. (1988).  Trading off Simplicity\n",
      "       and Coverage in Incremental Concept Learning. In Proceedings of \n",
      "       the 5th International Conference on Machine Learning, 73-79.\n",
      "       Ann Arbor, Michigan: Morgan Kaufmann.  \n",
      "       -- approximately the same results with their HILLARY algorithm    \n",
      "    3. In the following references a set of rules (given below) were\n",
      "\tlearned for this data set which may serve as a point of\n",
      "\tcomparison for other researchers.\n",
      "\n",
      "\tDuch W, Adamczak R, Grabczewski K (1996) Extraction of logical rules\n",
      "\tfrom training data using backpropagation networks, in: Proc. of the\n",
      "\tThe 1st Online Workshop on Soft Computing, 19-30.Aug.1996, pp. 25-30,\n",
      "\tavailable on-line at: http://www.bioele.nuee.nagoya-u.ac.jp/wsc1/\n",
      "\n",
      "\tDuch W, Adamczak R, Grabczewski K, Ishikawa M, Ueda H, Extraction of\n",
      "\tcrisp logical rules using constrained backpropagation networks -\n",
      "\tcomparison of two new approaches, in: Proc. of the European Symposium\n",
      "\ton Artificial Neural Networks (ESANN'97), Bruge, Belgium 16-18.4.1997,\n",
      "\tpp. xx-xx\n",
      "\n",
      "\tWlodzislaw Duch, Department of Computer Methods, Nicholas Copernicus\n",
      "\tUniversity, 87-100 Torun, Grudziadzka 5, Poland\n",
      "\te-mail: duch@phys.uni.torun.pl\n",
      "\tWWW     http://www.phys.uni.torun.pl/kmk/\n",
      "\t\n",
      "\tDate: Mon, 17 Feb 1997 13:47:40 +0100\n",
      "\tFrom: Wlodzislaw Duch <duch@phys.uni.torun.pl>\n",
      "\tOrganization: Dept. of Computer Methods, UMK\n",
      "\n",
      "\tI have attached a file containing logical rules for mushrooms.\n",
      "\tIt should be helpful for other people since only in the last year I\n",
      "\thave seen about 10 papers analyzing this dataset and obtaining quite\n",
      "\tcomplex rules. We will try to contribute other results later.\n",
      "\n",
      "\tWith best regards, Wlodek Duch\n",
      "\t________________________________________________________________\n",
      "\n",
      "\tLogical rules for the mushroom data sets.\n",
      "\n",
      "\tLogical rules given below seem to be the simplest possible for the\n",
      "\tmushroom dataset and therefore should be treated as benchmark results.\n",
      "\n",
      "\tDisjunctive rules for poisonous mushrooms, from most general\n",
      "\tto most specific:\n",
      "\n",
      "\tP_1) odor=NOT(almond.OR.anise.OR.none)\n",
      "\t     120 poisonous cases missed, 98.52% accuracy\n",
      "\n",
      "\tP_2) spore-print-color=green\n",
      "\t     48 cases missed, 99.41% accuracy\n",
      "         \n",
      "\tP_3) odor=none.AND.stalk-surface-below-ring=scaly.AND.\n",
      "\t          (stalk-color-above-ring=NOT.brown) \n",
      "\t     8 cases missed, 99.90% accuracy\n",
      "         \n",
      "\tP_4) habitat=leaves.AND.cap-color=white\n",
      "\t         100% accuracy     \n",
      "\n",
      "\tRule P_4) may also be\n",
      "\n",
      "\tP_4') population=clustered.AND.cap_color=white\n",
      "\n",
      "\tThese rule involve 6 attributes (out of 22). Rules for edible\n",
      "\tmushrooms are obtained as negation of the rules given above, for\n",
      "\texample the rule:\n",
      "\n",
      "\todor=(almond.OR.anise.OR.none).AND.spore-print-color=NOT.green\n",
      "\n",
      "\tgives 48 errors, or 99.41% accuracy on the whole dataset.\n",
      "\n",
      "\tSeveral slightly more complex variations on these rules exist,\n",
      "\tinvolving other attributes, such as gill_size, gill_spacing,\n",
      "\tstalk_surface_above_ring, but the rules given above are the simplest\n",
      "\twe have found.\n",
      "\n",
      "\n",
      "4. Relevant Information:\n",
      "    This data set includes descriptions of hypothetical samples\n",
      "    corresponding to 23 species of gilled mushrooms in the Agaricus and\n",
      "    Lepiota Family (pp. 500-525).  Each species is identified as\n",
      "    definitely edible, definitely poisonous, or of unknown edibility and\n",
      "    not recommended.  This latter class was combined with the poisonous\n",
      "    one.  The Guide clearly states that there is no simple rule for\n",
      "    determining the edibility of a mushroom; no rule like ``leaflets\n",
      "    three, let it be'' for Poisonous Oak and Ivy.\n",
      "\n",
      "5. Number of Instances: 8124\n",
      "\n",
      "6. Number of Attributes: 22 (all nominally valued)\n",
      "\n",
      "7. Attribute Information: (classes: edible=e, poisonous=p)\n",
      "     1. cap-shape:                bell=b,conical=c,convex=x,flat=f,\n",
      "                                  knobbed=k,sunken=s\n",
      "     2. cap-surface:              fibrous=f,grooves=g,scaly=y,smooth=s\n",
      "     3. cap-color:                brown=n,buff=b,cinnamon=c,gray=g,green=r,\n",
      "                                  pink=p,purple=u,red=e,white=w,yellow=y\n",
      "     4. bruises?:                 bruises=t,no=f\n",
      "     5. odor:                     almond=a,anise=l,creosote=c,fishy=y,foul=f,\n",
      "                                  musty=m,none=n,pungent=p,spicy=s\n",
      "     6. gill-attachment:          attached=a,descending=d,free=f,notched=n\n",
      "     7. gill-spacing:             close=c,crowded=w,distant=d\n",
      "     8. gill-size:                broad=b,narrow=n\n",
      "     9. gill-color:               black=k,brown=n,buff=b,chocolate=h,gray=g,\n",
      "                                  green=r,orange=o,pink=p,purple=u,red=e,\n",
      "                                  white=w,yellow=y\n",
      "    10. stalk-shape:              enlarging=e,tapering=t\n",
      "    11. stalk-root:               bulbous=b,club=c,cup=u,equal=e,\n",
      "                                  rhizomorphs=z,rooted=r,missing=?\n",
      "    12. stalk-surface-above-ring: fibrous=f,scaly=y,silky=k,smooth=s\n",
      "    13. stalk-surface-below-ring: fibrous=f,scaly=y,silky=k,smooth=s\n",
      "    14. stalk-color-above-ring:   brown=n,buff=b,cinnamon=c,gray=g,orange=o,\n",
      "                                  pink=p,red=e,white=w,yellow=y\n",
      "    15. stalk-color-below-ring:   brown=n,buff=b,cinnamon=c,gray=g,orange=o,\n",
      "                                  pink=p,red=e,white=w,yellow=y\n",
      "    16. veil-type:                partial=p,universal=u\n",
      "    17. veil-color:               brown=n,orange=o,white=w,yellow=y\n",
      "    18. ring-number:              none=n,one=o,two=t\n",
      "    19. ring-type:                cobwebby=c,evanescent=e,flaring=f,large=l,\n",
      "                                  none=n,pendant=p,sheathing=s,zone=z\n",
      "    20. spore-print-color:        black=k,brown=n,buff=b,chocolate=h,green=r,\n",
      "                                  orange=o,purple=u,white=w,yellow=y\n",
      "    21. population:               abundant=a,clustered=c,numerous=n,\n",
      "                                  scattered=s,several=v,solitary=y\n",
      "    22. habitat:                  grasses=g,leaves=l,meadows=m,paths=p,\n",
      "                                  urban=u,waste=w,woods=d\n",
      "\n",
      "8. Missing Attribute Values: 2480 of them (denoted by \"?\"), all for\n",
      "   attribute #11.\n",
      "\n",
      "9. Class Distribution: \n",
      "    --    edible: 4208 (51.8%)\n",
      "    -- poisonous: 3916 (48.2%)\n",
      "    --     total: 8124 instances\n",
      "\n"
     ]
    }
   ],
   "source": [
    "descr_url = 'https://archive.ics.uci.edu/ml/machine-learning-databases/mushroom/agaricus-lepiota.names'\n",
    "r = requests.get(descr_url)\n",
    "print(r.text)"
   ]
  },
  {
   "cell_type": "code",
   "execution_count": 5,
   "metadata": {},
   "outputs": [],
   "source": [
    "column_names = ['class', 'cap-shape', 'cap-surface', 'cap-color', 'bruises', 'odor', \n",
    "                'gill-attachment', 'gill-spacing', 'gill-size', 'gill-color', 'stalk-shape',\n",
    "                'stalk-root', 'stalk-surface-above-ring', 'stalk-surface-below-ring', \n",
    "                'stalk-color-above-ring', 'stalk-color-below-ring', 'veil-type', 'veil-color', \n",
    "                'ring-number', 'ring-type', 'spore-print-color', 'population', 'habitat']\n",
    "\n",
    "values_mapping = {\n",
    "    'class':                    {'e': 'edible', 'p': 'poisonous'},\n",
    "    'cap-shape':                {'b': 'bell', 'c': 'conical', 'x': 'convex', 'f': 'flat',\n",
    "                                 'k': 'knobbed', 's': 'sunken'},\n",
    "    'cap-surface':              {'f': 'fibrous', 'g': 'grooves', 'y': 'scaly', 's': 'smooth'},\n",
    "    'cap-color':                {'n': 'brown', 'b': 'buff', 'c': 'cinnamon', 'g': 'gray', 'r': 'green',\n",
    "                                 'p': 'pink', 'u': 'purple', 'e': 'red', 'w': 'white', 'y': 'yellow'},\n",
    "    'bruises':                  {'t': 'bruises', 'f': 'no'},\n",
    "    'odor':                     {'a': 'almond', 'l': 'anise', 'c': 'creosote', 'y': 'fishy', 'f': 'foul',\n",
    "                                 'm': 'musty', 'n': 'none', 'p': 'pungent', 's': 'spicy'},\n",
    "    'gill-attachment':          {'a': 'attached', 'd': 'descending', 'f': 'free', 'n': 'notched'},\n",
    "    'gill-spacing':             {'c': 'close', 'w': 'crowded', 'd': 'distant'},\n",
    "    'gill-size':                {'b': 'broad', 'n': 'narrow'},\n",
    "    'gill-color':               {'k': 'black', 'n': 'brown', 'b': 'buff', 'h': 'chocolate', 'g': 'gray',\n",
    "                                 'r': 'green', 'o': 'orange', 'p': 'pink', 'u': 'purple', 'e': 'red',\n",
    "                                 'w': 'white', 'y': 'yellow'},\n",
    "    'stalk-shape':              {'e': 'enlarging', 't': 'tapering'},\n",
    "    'stalk-root':               {'b': 'bulbous', 'c': 'club', 'u': 'cup', 'e': 'equal',\n",
    "                                 'z': 'rhizomorphs', 'r': 'rooted', '?': 'missing'},\n",
    "    'stalk-surface-above-ring': {'f': 'fibrous', 'y': 'scaly', 'k': 'silky', 's': 'smooth'},\n",
    "    'stalk-surface-below-ring': {'f': 'fibrous', 'y': 'scaly', 'k': 'silky', 's': 'smooth'},\n",
    "    'stalk-color-above-ring':   {'n': 'brown', 'b': 'buff', 'c': 'cinnamon', 'g': 'gray', 'o': 'orange',\n",
    "                                 'p': 'pink', 'e': 'red', 'w': 'white', 'y': 'yellow'},\n",
    "    'stalk-color-below-ring':   {'n': 'brown', 'b': 'buff', 'c': 'cinnamon', 'g': 'gray', 'o': 'orange',\n",
    "                                 'p': 'pink', 'e': 'red', 'w': 'white', 'y': 'yellow'},\n",
    "    'veil-type':                {'p': 'partial', 'u': 'universal'},\n",
    "    'veil-color':               {'n': 'brown', 'o': 'orange', 'w': 'white', 'y': 'yellow'},\n",
    "    'ring-number':              {'n': 'none', 'o': 'one', 't': 'two'},\n",
    "    'ring-type':                {'c': 'cobwebby', 'e': 'evanescent', 'f': 'flaring', 'l': 'large',\n",
    "                                 'n': 'none', 'p': 'pendant', 's': 'sheathing', 'z': 'zone'},\n",
    "    'spore-print-color':        {'k': 'black', 'n': 'brown', 'b': 'buff', 'h': 'chocolate', 'r': 'green',\n",
    "                                 'o': 'orange', 'u': 'purple', 'w': 'white', 'y': 'yellow'},\n",
    "    'population':               {'a': 'abundant', 'c': 'clustered', 'n': 'numerous',\n",
    "                                 's': 'scattered', 'v': 'several', 'y': 'solitary'},\n",
    "    'habitat':                  {'g': 'grasses', 'l': 'leaves', 'm': 'meadows', 'p': 'paths',\n",
    "                                 'u': 'urban', 'w': 'waste', 'd': 'woods'}\n",
    "}"
   ]
  },
  {
   "cell_type": "code",
   "execution_count": 8,
   "metadata": {},
   "outputs": [],
   "source": [
    "# load data\n",
    "dataset_url = 'https://archive.ics.uci.edu/ml/machine-learning-databases/mushroom/agaricus-lepiota.data'\n",
    "df = pd.read_csv(dataset_url, header=None, names=column_names)\n",
    "# data cleanup\n",
    "for key in column_names:\n",
    "    df[key] = df[key].apply(lambda x: values_mapping[key][x])\n",
    "df['poisonous'] = df['class'] == 'poisonous'\n",
    "df = df.drop(['class'], axis=1)"
   ]
  },
  {
   "cell_type": "code",
   "execution_count": 37,
   "metadata": {},
   "outputs": [
    {
     "data": {
      "text/html": [
       "<div>\n",
       "<style scoped>\n",
       "    .dataframe tbody tr th:only-of-type {\n",
       "        vertical-align: middle;\n",
       "    }\n",
       "\n",
       "    .dataframe tbody tr th {\n",
       "        vertical-align: top;\n",
       "    }\n",
       "\n",
       "    .dataframe thead th {\n",
       "        text-align: right;\n",
       "    }\n",
       "</style>\n",
       "<table border=\"1\" class=\"dataframe\">\n",
       "  <thead>\n",
       "    <tr style=\"text-align: right;\">\n",
       "      <th></th>\n",
       "      <th>cap-shape</th>\n",
       "      <th>cap-surface</th>\n",
       "      <th>cap-color</th>\n",
       "      <th>bruises</th>\n",
       "      <th>odor</th>\n",
       "      <th>gill-attachment</th>\n",
       "      <th>gill-spacing</th>\n",
       "      <th>gill-size</th>\n",
       "      <th>gill-color</th>\n",
       "      <th>stalk-shape</th>\n",
       "      <th>...</th>\n",
       "      <th>stalk-color-above-ring</th>\n",
       "      <th>stalk-color-below-ring</th>\n",
       "      <th>veil-type</th>\n",
       "      <th>veil-color</th>\n",
       "      <th>ring-number</th>\n",
       "      <th>ring-type</th>\n",
       "      <th>spore-print-color</th>\n",
       "      <th>population</th>\n",
       "      <th>habitat</th>\n",
       "      <th>poisonous</th>\n",
       "    </tr>\n",
       "  </thead>\n",
       "  <tbody>\n",
       "    <tr>\n",
       "      <th>0</th>\n",
       "      <td>convex</td>\n",
       "      <td>smooth</td>\n",
       "      <td>brown</td>\n",
       "      <td>bruises</td>\n",
       "      <td>pungent</td>\n",
       "      <td>free</td>\n",
       "      <td>close</td>\n",
       "      <td>narrow</td>\n",
       "      <td>black</td>\n",
       "      <td>enlarging</td>\n",
       "      <td>...</td>\n",
       "      <td>white</td>\n",
       "      <td>white</td>\n",
       "      <td>partial</td>\n",
       "      <td>white</td>\n",
       "      <td>one</td>\n",
       "      <td>pendant</td>\n",
       "      <td>black</td>\n",
       "      <td>scattered</td>\n",
       "      <td>urban</td>\n",
       "      <td>True</td>\n",
       "    </tr>\n",
       "    <tr>\n",
       "      <th>1</th>\n",
       "      <td>convex</td>\n",
       "      <td>smooth</td>\n",
       "      <td>yellow</td>\n",
       "      <td>bruises</td>\n",
       "      <td>almond</td>\n",
       "      <td>free</td>\n",
       "      <td>close</td>\n",
       "      <td>broad</td>\n",
       "      <td>black</td>\n",
       "      <td>enlarging</td>\n",
       "      <td>...</td>\n",
       "      <td>white</td>\n",
       "      <td>white</td>\n",
       "      <td>partial</td>\n",
       "      <td>white</td>\n",
       "      <td>one</td>\n",
       "      <td>pendant</td>\n",
       "      <td>brown</td>\n",
       "      <td>numerous</td>\n",
       "      <td>grasses</td>\n",
       "      <td>False</td>\n",
       "    </tr>\n",
       "    <tr>\n",
       "      <th>2</th>\n",
       "      <td>bell</td>\n",
       "      <td>smooth</td>\n",
       "      <td>white</td>\n",
       "      <td>bruises</td>\n",
       "      <td>anise</td>\n",
       "      <td>free</td>\n",
       "      <td>close</td>\n",
       "      <td>broad</td>\n",
       "      <td>brown</td>\n",
       "      <td>enlarging</td>\n",
       "      <td>...</td>\n",
       "      <td>white</td>\n",
       "      <td>white</td>\n",
       "      <td>partial</td>\n",
       "      <td>white</td>\n",
       "      <td>one</td>\n",
       "      <td>pendant</td>\n",
       "      <td>brown</td>\n",
       "      <td>numerous</td>\n",
       "      <td>meadows</td>\n",
       "      <td>False</td>\n",
       "    </tr>\n",
       "    <tr>\n",
       "      <th>3</th>\n",
       "      <td>convex</td>\n",
       "      <td>scaly</td>\n",
       "      <td>white</td>\n",
       "      <td>bruises</td>\n",
       "      <td>pungent</td>\n",
       "      <td>free</td>\n",
       "      <td>close</td>\n",
       "      <td>narrow</td>\n",
       "      <td>brown</td>\n",
       "      <td>enlarging</td>\n",
       "      <td>...</td>\n",
       "      <td>white</td>\n",
       "      <td>white</td>\n",
       "      <td>partial</td>\n",
       "      <td>white</td>\n",
       "      <td>one</td>\n",
       "      <td>pendant</td>\n",
       "      <td>black</td>\n",
       "      <td>scattered</td>\n",
       "      <td>urban</td>\n",
       "      <td>True</td>\n",
       "    </tr>\n",
       "    <tr>\n",
       "      <th>4</th>\n",
       "      <td>convex</td>\n",
       "      <td>smooth</td>\n",
       "      <td>gray</td>\n",
       "      <td>no</td>\n",
       "      <td>none</td>\n",
       "      <td>free</td>\n",
       "      <td>crowded</td>\n",
       "      <td>broad</td>\n",
       "      <td>black</td>\n",
       "      <td>tapering</td>\n",
       "      <td>...</td>\n",
       "      <td>white</td>\n",
       "      <td>white</td>\n",
       "      <td>partial</td>\n",
       "      <td>white</td>\n",
       "      <td>one</td>\n",
       "      <td>evanescent</td>\n",
       "      <td>brown</td>\n",
       "      <td>abundant</td>\n",
       "      <td>grasses</td>\n",
       "      <td>False</td>\n",
       "    </tr>\n",
       "  </tbody>\n",
       "</table>\n",
       "<p>5 rows × 23 columns</p>\n",
       "</div>"
      ],
      "text/plain": [
       "  cap-shape cap-surface cap-color  bruises     odor gill-attachment  \\\n",
       "0    convex      smooth     brown  bruises  pungent            free   \n",
       "1    convex      smooth    yellow  bruises   almond            free   \n",
       "2      bell      smooth     white  bruises    anise            free   \n",
       "3    convex       scaly     white  bruises  pungent            free   \n",
       "4    convex      smooth      gray       no     none            free   \n",
       "\n",
       "  gill-spacing gill-size gill-color stalk-shape    ...     \\\n",
       "0        close    narrow      black   enlarging    ...      \n",
       "1        close     broad      black   enlarging    ...      \n",
       "2        close     broad      brown   enlarging    ...      \n",
       "3        close    narrow      brown   enlarging    ...      \n",
       "4      crowded     broad      black    tapering    ...      \n",
       "\n",
       "  stalk-color-above-ring stalk-color-below-ring veil-type veil-color  \\\n",
       "0                  white                  white   partial      white   \n",
       "1                  white                  white   partial      white   \n",
       "2                  white                  white   partial      white   \n",
       "3                  white                  white   partial      white   \n",
       "4                  white                  white   partial      white   \n",
       "\n",
       "  ring-number   ring-type spore-print-color population  habitat poisonous  \n",
       "0         one     pendant             black  scattered    urban      True  \n",
       "1         one     pendant             brown   numerous  grasses     False  \n",
       "2         one     pendant             brown   numerous  meadows     False  \n",
       "3         one     pendant             black  scattered    urban      True  \n",
       "4         one  evanescent             brown   abundant  grasses     False  \n",
       "\n",
       "[5 rows x 23 columns]"
      ]
     },
     "execution_count": 37,
     "metadata": {},
     "output_type": "execute_result"
    }
   ],
   "source": [
    "df.head()"
   ]
  },
  {
   "cell_type": "code",
   "execution_count": 10,
   "metadata": {},
   "outputs": [
    {
     "data": {
      "text/html": [
       "<div>\n",
       "<style scoped>\n",
       "    .dataframe tbody tr th:only-of-type {\n",
       "        vertical-align: middle;\n",
       "    }\n",
       "\n",
       "    .dataframe tbody tr th {\n",
       "        vertical-align: top;\n",
       "    }\n",
       "\n",
       "    .dataframe thead th {\n",
       "        text-align: right;\n",
       "    }\n",
       "</style>\n",
       "<table border=\"1\" class=\"dataframe\">\n",
       "  <thead>\n",
       "    <tr style=\"text-align: right;\">\n",
       "      <th></th>\n",
       "      <th>cap-shape</th>\n",
       "      <th>cap-surface</th>\n",
       "      <th>cap-color</th>\n",
       "      <th>bruises</th>\n",
       "      <th>odor</th>\n",
       "      <th>gill-attachment</th>\n",
       "      <th>gill-spacing</th>\n",
       "      <th>gill-size</th>\n",
       "      <th>gill-color</th>\n",
       "      <th>stalk-shape</th>\n",
       "      <th>...</th>\n",
       "      <th>stalk-color-above-ring</th>\n",
       "      <th>stalk-color-below-ring</th>\n",
       "      <th>veil-type</th>\n",
       "      <th>veil-color</th>\n",
       "      <th>ring-number</th>\n",
       "      <th>ring-type</th>\n",
       "      <th>spore-print-color</th>\n",
       "      <th>population</th>\n",
       "      <th>habitat</th>\n",
       "      <th>poisonous</th>\n",
       "    </tr>\n",
       "  </thead>\n",
       "  <tbody>\n",
       "    <tr>\n",
       "      <th>count</th>\n",
       "      <td>8124</td>\n",
       "      <td>8124</td>\n",
       "      <td>8124</td>\n",
       "      <td>8124</td>\n",
       "      <td>8124</td>\n",
       "      <td>8124</td>\n",
       "      <td>8124</td>\n",
       "      <td>8124</td>\n",
       "      <td>8124</td>\n",
       "      <td>8124</td>\n",
       "      <td>...</td>\n",
       "      <td>8124</td>\n",
       "      <td>8124</td>\n",
       "      <td>8124</td>\n",
       "      <td>8124</td>\n",
       "      <td>8124</td>\n",
       "      <td>8124</td>\n",
       "      <td>8124</td>\n",
       "      <td>8124</td>\n",
       "      <td>8124</td>\n",
       "      <td>8124</td>\n",
       "    </tr>\n",
       "    <tr>\n",
       "      <th>unique</th>\n",
       "      <td>6</td>\n",
       "      <td>4</td>\n",
       "      <td>10</td>\n",
       "      <td>2</td>\n",
       "      <td>9</td>\n",
       "      <td>2</td>\n",
       "      <td>2</td>\n",
       "      <td>2</td>\n",
       "      <td>12</td>\n",
       "      <td>2</td>\n",
       "      <td>...</td>\n",
       "      <td>9</td>\n",
       "      <td>9</td>\n",
       "      <td>1</td>\n",
       "      <td>4</td>\n",
       "      <td>3</td>\n",
       "      <td>5</td>\n",
       "      <td>9</td>\n",
       "      <td>6</td>\n",
       "      <td>7</td>\n",
       "      <td>2</td>\n",
       "    </tr>\n",
       "    <tr>\n",
       "      <th>top</th>\n",
       "      <td>convex</td>\n",
       "      <td>scaly</td>\n",
       "      <td>brown</td>\n",
       "      <td>no</td>\n",
       "      <td>none</td>\n",
       "      <td>free</td>\n",
       "      <td>close</td>\n",
       "      <td>broad</td>\n",
       "      <td>buff</td>\n",
       "      <td>tapering</td>\n",
       "      <td>...</td>\n",
       "      <td>white</td>\n",
       "      <td>white</td>\n",
       "      <td>partial</td>\n",
       "      <td>white</td>\n",
       "      <td>one</td>\n",
       "      <td>pendant</td>\n",
       "      <td>white</td>\n",
       "      <td>several</td>\n",
       "      <td>woods</td>\n",
       "      <td>False</td>\n",
       "    </tr>\n",
       "    <tr>\n",
       "      <th>freq</th>\n",
       "      <td>3656</td>\n",
       "      <td>3244</td>\n",
       "      <td>2284</td>\n",
       "      <td>4748</td>\n",
       "      <td>3528</td>\n",
       "      <td>7914</td>\n",
       "      <td>6812</td>\n",
       "      <td>5612</td>\n",
       "      <td>1728</td>\n",
       "      <td>4608</td>\n",
       "      <td>...</td>\n",
       "      <td>4464</td>\n",
       "      <td>4384</td>\n",
       "      <td>8124</td>\n",
       "      <td>7924</td>\n",
       "      <td>7488</td>\n",
       "      <td>3968</td>\n",
       "      <td>2388</td>\n",
       "      <td>4040</td>\n",
       "      <td>3148</td>\n",
       "      <td>4208</td>\n",
       "    </tr>\n",
       "  </tbody>\n",
       "</table>\n",
       "<p>4 rows × 23 columns</p>\n",
       "</div>"
      ],
      "text/plain": [
       "       cap-shape cap-surface cap-color bruises  odor gill-attachment  \\\n",
       "count       8124        8124      8124    8124  8124            8124   \n",
       "unique         6           4        10       2     9               2   \n",
       "top       convex       scaly     brown      no  none            free   \n",
       "freq        3656        3244      2284    4748  3528            7914   \n",
       "\n",
       "       gill-spacing gill-size gill-color stalk-shape    ...     \\\n",
       "count          8124      8124       8124        8124    ...      \n",
       "unique            2         2         12           2    ...      \n",
       "top           close     broad       buff    tapering    ...      \n",
       "freq           6812      5612       1728        4608    ...      \n",
       "\n",
       "       stalk-color-above-ring stalk-color-below-ring veil-type veil-color  \\\n",
       "count                    8124                   8124      8124       8124   \n",
       "unique                      9                      9         1          4   \n",
       "top                     white                  white   partial      white   \n",
       "freq                     4464                   4384      8124       7924   \n",
       "\n",
       "       ring-number ring-type spore-print-color population habitat poisonous  \n",
       "count         8124      8124              8124       8124    8124      8124  \n",
       "unique           3         5                 9          6       7         2  \n",
       "top            one   pendant             white    several   woods     False  \n",
       "freq          7488      3968              2388       4040    3148      4208  \n",
       "\n",
       "[4 rows x 23 columns]"
      ]
     },
     "execution_count": 10,
     "metadata": {},
     "output_type": "execute_result"
    }
   ],
   "source": [
    "df.describe()"
   ]
  },
  {
   "cell_type": "code",
   "execution_count": 14,
   "metadata": {},
   "outputs": [
    {
     "name": "stdout",
     "output_type": "stream",
     "text": [
      "<class 'pandas.core.frame.DataFrame'>\n",
      "RangeIndex: 8124 entries, 0 to 8123\n",
      "Data columns (total 23 columns):\n",
      "cap-shape                   8124 non-null object\n",
      "cap-surface                 8124 non-null object\n",
      "cap-color                   8124 non-null object\n",
      "bruises                     8124 non-null object\n",
      "odor                        8124 non-null object\n",
      "gill-attachment             8124 non-null object\n",
      "gill-spacing                8124 non-null object\n",
      "gill-size                   8124 non-null object\n",
      "gill-color                  8124 non-null object\n",
      "stalk-shape                 8124 non-null object\n",
      "stalk-root                  8124 non-null object\n",
      "stalk-surface-above-ring    8124 non-null object\n",
      "stalk-surface-below-ring    8124 non-null object\n",
      "stalk-color-above-ring      8124 non-null object\n",
      "stalk-color-below-ring      8124 non-null object\n",
      "veil-type                   8124 non-null object\n",
      "veil-color                  8124 non-null object\n",
      "ring-number                 8124 non-null object\n",
      "ring-type                   8124 non-null object\n",
      "spore-print-color           8124 non-null object\n",
      "population                  8124 non-null object\n",
      "habitat                     8124 non-null object\n",
      "poisonous                   8124 non-null bool\n",
      "dtypes: bool(1), object(22)\n",
      "memory usage: 1.4+ MB\n"
     ]
    }
   ],
   "source": [
    "df.info()"
   ]
  },
  {
   "cell_type": "code",
   "execution_count": 17,
   "metadata": {},
   "outputs": [
    {
     "data": {
      "text/plain": [
       "<seaborn.axisgrid.FacetGrid at 0x10ab5d5c0>"
      ]
     },
     "execution_count": 17,
     "metadata": {},
     "output_type": "execute_result"
    },
    {
     "data": {
      "image/png": "[encoded data removed]",
      "text/plain": [
       "<matplotlib.figure.Figure at 0x1a1b861240>"
      ]
     },
     "metadata": {},
     "output_type": "display_data"
    }
   ],
   "source": [
    "sns.factorplot(\"cap-surface\", \"poisonous\", \"cap-shape\",\n",
    "               data=df[df['cap-shape'] != 'sunken'], hue_order=['bell', 'convex', 'flat', 'knobbed', 'conical'],\n",
    "               kind=\"bar\",  palette=\"muted\", ci=None, legend=True, size=6)"
   ]
  },
  {
   "cell_type": "code",
   "execution_count": 21,
   "metadata": {},
   "outputs": [
    {
     "data": {
      "text/plain": [
       "<seaborn.axisgrid.FacetGrid at 0x1a1c119550>"
      ]
     },
     "execution_count": 21,
     "metadata": {},
     "output_type": "execute_result"
    },
    {
     "data": {
      "image/png": "[encoded data removed]",
      "text/plain": [
       "<matplotlib.figure.Figure at 0x1a1c106d30>"
      ]
     },
     "metadata": {},
     "output_type": "display_data"
    }
   ],
   "source": [
    "sns.factorplot(\"gill-spacing\", \"poisonous\", \"gill-attachment\", col=\"gill-size\",\n",
    "               data=df,\n",
    "               kind=\"bar\",  palette=\"muted\", ci=None, legend=True, size=4)"
   ]
  },
  {
   "cell_type": "code",
   "execution_count": 22,
   "metadata": {},
   "outputs": [
    {
     "data": {
      "text/plain": [
       "<seaborn.axisgrid.FacetGrid at 0x1a1174a780>"
      ]
     },
     "execution_count": 22,
     "metadata": {},
     "output_type": "execute_result"
    },
    {
     "data": {
      "image/png": "[encoded data removed]",
      "text/plain": [
       "<matplotlib.figure.Figure at 0x1a1c10c400>"
      ]
     },
     "metadata": {},
     "output_type": "display_data"
    }
   ],
   "source": [
    "sns.factorplot(\"stalk-shape\", \"poisonous\", \"stalk-root\",\n",
    "               data=df[df[\"stalk-root\"] != \"rooted\"],\n",
    "               kind=\"bar\",  palette=\"muted\", ci=None, legend=True, size=4)"
   ]
  },
  {
   "cell_type": "code",
   "execution_count": 25,
   "metadata": {},
   "outputs": [
    {
     "data": {
      "text/plain": [
       "<matplotlib.axes._subplots.AxesSubplot at 0x1a1cbb7d30>"
      ]
     },
     "execution_count": 25,
     "metadata": {},
     "output_type": "execute_result"
    },
    {
     "data": {
      "image/png": "[encoded data removed]",
      "text/plain": [
       "<matplotlib.figure.Figure at 0x1a1c4b3a20>"
      ]
     },
     "metadata": {},
     "output_type": "display_data"
    }
   ],
   "source": [
    "heat = pd.pivot_table(df, index=\"stalk-surface-above-ring\", columns=\"stalk-surface-below-ring\", \n",
    "                      values=\"poisonous\")\n",
    "sns.heatmap(heat, cmap=\"Blues\")"
   ]
  },
  {
   "cell_type": "code",
   "execution_count": 27,
   "metadata": {},
   "outputs": [
    {
     "data": {
      "text/plain": [
       "<seaborn.axisgrid.FacetGrid at 0x1a1cbb77b8>"
      ]
     },
     "execution_count": 27,
     "metadata": {},
     "output_type": "execute_result"
    },
    {
     "data": {
      "image/png": "[encoded data removed]",
      "text/plain": [
       "<matplotlib.figure.Figure at 0x1a1c1cb160>"
      ]
     },
     "metadata": {},
     "output_type": "display_data"
    }
   ],
   "source": [
    "sns.factorplot(\"bruises\", \"poisonous\",\n",
    "               data=df, kind=\"bar\",  palette=\"muted\", ci=None, legend=True, size=4)"
   ]
  },
  {
   "cell_type": "code",
   "execution_count": 28,
   "metadata": {},
   "outputs": [
    {
     "data": {
      "text/plain": [
       "<seaborn.axisgrid.FacetGrid at 0x1a1cc785f8>"
      ]
     },
     "execution_count": 28,
     "metadata": {},
     "output_type": "execute_result"
    },
    {
     "data": {
      "image/png": "[encoded data removed]",
      "text/plain": [
       "<matplotlib.figure.Figure at 0x1a1cc78748>"
      ]
     },
     "metadata": {},
     "output_type": "display_data"
    }
   ],
   "source": [
    "sns.factorplot(\"ring-number\", \"poisonous\", \"ring-type\", \n",
    "               data=df[df[\"ring-type\"] != \"flaring\"], \n",
    "               kind=\"bar\",  palette=\"muted\", ci=None, legend=True, size=4)"
   ]
  },
  {
   "cell_type": "code",
   "execution_count": 38,
   "metadata": {},
   "outputs": [
    {
     "data": {
      "text/plain": [
       "<matplotlib.axes._subplots.AxesSubplot at 0x1a1db314e0>"
      ]
     },
     "execution_count": 38,
     "metadata": {},
     "output_type": "execute_result"
    },
    {
     "data": {
      "image/png": "[encoded data removed]",
      "text/plain": [
       "<matplotlib.figure.Figure at 0x1a1db198d0>"
      ]
     },
     "metadata": {},
     "output_type": "display_data"
    }
   ],
   "source": [
    "heat = pd.pivot_table(df, index=\"population\", columns=\"habitat\", \n",
    "                      values=\"poisonous\")\n",
    "sns.heatmap(heat, cmap=\"Blues\")"
   ]
  },
  {
   "cell_type": "code",
   "execution_count": 30,
   "metadata": {},
   "outputs": [
    {
     "data": {
      "text/plain": [
       "<matplotlib.axes._subplots.AxesSubplot at 0x1a1d190a20>"
      ]
     },
     "execution_count": 30,
     "metadata": {},
     "output_type": "execute_result"
    },
    {
     "data": {
      "image/png": "[encoded data removed]",
      "text/plain": [
       "<matplotlib.figure.Figure at 0x1a1cd5e7b8>"
      ]
     },
     "metadata": {},
     "output_type": "display_data"
    }
   ],
   "source": [
    "heat = pd.pivot_table(df, index=\"cap-color\", columns=\"gill-color\", \n",
    "                      values=\"poisonous\")\n",
    "sns.heatmap(heat, cmap=\"Blues\")"
   ]
  },
  {
   "cell_type": "code",
   "execution_count": 31,
   "metadata": {},
   "outputs": [
    {
     "data": {
      "text/plain": [
       "<matplotlib.axes._subplots.AxesSubplot at 0x1a1d32c550>"
      ]
     },
     "execution_count": 31,
     "metadata": {},
     "output_type": "execute_result"
    },
    {
     "data": {
      "image/png": "[encoded data removed]",
      "text/plain": [
       "<matplotlib.figure.Figure at 0x1a1d39d7f0>"
      ]
     },
     "metadata": {},
     "output_type": "display_data"
    }
   ],
   "source": [
    "heat = pd.pivot_table(df, index=\"veil-color\", columns=\"spore-print-color\", \n",
    "                      values=\"poisonous\")\n",
    "sns.heatmap(heat, cmap=\"Blues\")"
   ]
  },
  {
   "cell_type": "code",
   "execution_count": 32,
   "metadata": {},
   "outputs": [],
   "source": [
    "from sklearn.model_selection import train_test_split\n",
    "from sklearn.naive_bayes import GaussianNB\n",
    "from sklearn.neighbors import KNeighborsClassifier\n",
    "from sklearn.linear_model import LogisticRegression"
   ]
  },
  {
   "cell_type": "code",
   "execution_count": 33,
   "metadata": {},
   "outputs": [],
   "source": [
    "X = pd.get_dummies(df.drop(['poisonous'], axis=1))\n",
    "y = df['poisonous']"
   ]
  },
  {
   "cell_type": "code",
   "execution_count": 34,
   "metadata": {},
   "outputs": [],
   "source": [
    "X_train, X_test, y_train, y_test = train_test_split(X, y, test_size=0.33, random_state=41)"
   ]
  },
  {
   "cell_type": "code",
   "execution_count": 35,
   "metadata": {},
   "outputs": [
    {
     "data": {
      "text/plain": [
       "0.9615814994405073"
      ]
     },
     "execution_count": 35,
     "metadata": {},
     "output_type": "execute_result"
    }
   ],
   "source": [
    "model = GaussianNB()\n",
    "model.fit(X_train, y_train)\n",
    "model.score(X_test, y_test)"
   ]
  },
  {
   "cell_type": "code",
   "execution_count": null,
   "metadata": {},
   "outputs": [],
   "source": []
  }
 ],
 "metadata": {
  "kernelspec": {
   "display_name": "Python 3",
   "language": "python",
   "name": "python3"
  },
  "language_info": {
   "codemirror_mode": {
    "name": "ipython",
    "version": 3
   },
   "file_extension": ".py",
   "mimetype": "text/x-python",
   "name": "python",
   "nbconvert_exporter": "python",
   "pygments_lexer": "ipython3",
   "version": "3.6.4"
  }
 },
 "nbformat": 4,
 "nbformat_minor": 2
}
